{
  "nbformat": 4,
  "nbformat_minor": 0,
  "metadata": {
    "colab": {
      "name": "email-spam_Word2Vec_v3.ipynb",
      "provenance": []
    },
    "kernelspec": {
      "name": "python3",
      "display_name": "Python 3"
    },
    "language_info": {
      "name": "python"
    }
  },
  "cells": [
    {
      "cell_type": "code",
      "metadata": {
        "id": "hMlWvAzUPyye"
      },
      "source": [
        "import pandas as pd"
      ],
      "execution_count": 70,
      "outputs": []
    },
    {
      "cell_type": "code",
      "metadata": {
        "id": "Y5re3YcMRSRO"
      },
      "source": [
        "df = pd.read_csv('spam_ham_dataset.csv')"
      ],
      "execution_count": 71,
      "outputs": []
    },
    {
      "cell_type": "code",
      "metadata": {
        "colab": {
          "base_uri": "https://localhost:8080/",
          "height": 424
        },
        "id": "3ld35TNLRx-t",
        "outputId": "2387b838-387b-4a01-f871-4a2d142e4cbf"
      },
      "source": [
        "df"
      ],
      "execution_count": 72,
      "outputs": [
        {
          "output_type": "execute_result",
          "data": {
            "text/html": [
              "<div>\n",
              "<style scoped>\n",
              "    .dataframe tbody tr th:only-of-type {\n",
              "        vertical-align: middle;\n",
              "    }\n",
              "\n",
              "    .dataframe tbody tr th {\n",
              "        vertical-align: top;\n",
              "    }\n",
              "\n",
              "    .dataframe thead th {\n",
              "        text-align: right;\n",
              "    }\n",
              "</style>\n",
              "<table border=\"1\" class=\"dataframe\">\n",
              "  <thead>\n",
              "    <tr style=\"text-align: right;\">\n",
              "      <th></th>\n",
              "      <th>Unnamed: 0</th>\n",
              "      <th>label</th>\n",
              "      <th>text</th>\n",
              "      <th>label_num</th>\n",
              "    </tr>\n",
              "  </thead>\n",
              "  <tbody>\n",
              "    <tr>\n",
              "      <th>0</th>\n",
              "      <td>605</td>\n",
              "      <td>ham</td>\n",
              "      <td>Subject: enron methanol ; meter # : 988291\\r\\n...</td>\n",
              "      <td>0</td>\n",
              "    </tr>\n",
              "    <tr>\n",
              "      <th>1</th>\n",
              "      <td>2349</td>\n",
              "      <td>ham</td>\n",
              "      <td>Subject: hpl nom for january 9 , 2001\\r\\n( see...</td>\n",
              "      <td>0</td>\n",
              "    </tr>\n",
              "    <tr>\n",
              "      <th>2</th>\n",
              "      <td>3624</td>\n",
              "      <td>ham</td>\n",
              "      <td>Subject: neon retreat\\r\\nho ho ho , we ' re ar...</td>\n",
              "      <td>0</td>\n",
              "    </tr>\n",
              "    <tr>\n",
              "      <th>3</th>\n",
              "      <td>4685</td>\n",
              "      <td>spam</td>\n",
              "      <td>Subject: photoshop , windows , office . cheap ...</td>\n",
              "      <td>1</td>\n",
              "    </tr>\n",
              "    <tr>\n",
              "      <th>4</th>\n",
              "      <td>2030</td>\n",
              "      <td>ham</td>\n",
              "      <td>Subject: re : indian springs\\r\\nthis deal is t...</td>\n",
              "      <td>0</td>\n",
              "    </tr>\n",
              "    <tr>\n",
              "      <th>...</th>\n",
              "      <td>...</td>\n",
              "      <td>...</td>\n",
              "      <td>...</td>\n",
              "      <td>...</td>\n",
              "    </tr>\n",
              "    <tr>\n",
              "      <th>5166</th>\n",
              "      <td>1518</td>\n",
              "      <td>ham</td>\n",
              "      <td>Subject: put the 10 on the ft\\r\\nthe transport...</td>\n",
              "      <td>0</td>\n",
              "    </tr>\n",
              "    <tr>\n",
              "      <th>5167</th>\n",
              "      <td>404</td>\n",
              "      <td>ham</td>\n",
              "      <td>Subject: 3 / 4 / 2000 and following noms\\r\\nhp...</td>\n",
              "      <td>0</td>\n",
              "    </tr>\n",
              "    <tr>\n",
              "      <th>5168</th>\n",
              "      <td>2933</td>\n",
              "      <td>ham</td>\n",
              "      <td>Subject: calpine daily gas nomination\\r\\n&gt;\\r\\n...</td>\n",
              "      <td>0</td>\n",
              "    </tr>\n",
              "    <tr>\n",
              "      <th>5169</th>\n",
              "      <td>1409</td>\n",
              "      <td>ham</td>\n",
              "      <td>Subject: industrial worksheets for august 2000...</td>\n",
              "      <td>0</td>\n",
              "    </tr>\n",
              "    <tr>\n",
              "      <th>5170</th>\n",
              "      <td>4807</td>\n",
              "      <td>spam</td>\n",
              "      <td>Subject: important online banking alert\\r\\ndea...</td>\n",
              "      <td>1</td>\n",
              "    </tr>\n",
              "  </tbody>\n",
              "</table>\n",
              "<p>5171 rows × 4 columns</p>\n",
              "</div>"
            ],
            "text/plain": [
              "      Unnamed: 0  ... label_num\n",
              "0            605  ...         0\n",
              "1           2349  ...         0\n",
              "2           3624  ...         0\n",
              "3           4685  ...         1\n",
              "4           2030  ...         0\n",
              "...          ...  ...       ...\n",
              "5166        1518  ...         0\n",
              "5167         404  ...         0\n",
              "5168        2933  ...         0\n",
              "5169        1409  ...         0\n",
              "5170        4807  ...         1\n",
              "\n",
              "[5171 rows x 4 columns]"
            ]
          },
          "metadata": {},
          "execution_count": 72
        }
      ]
    },
    {
      "cell_type": "code",
      "metadata": {
        "id": "562zOLFZRzE1"
      },
      "source": [
        "import re"
      ],
      "execution_count": 73,
      "outputs": []
    },
    {
      "cell_type": "code",
      "metadata": {
        "id": "JLhUhY5nSThK"
      },
      "source": [
        "import nltk"
      ],
      "execution_count": 74,
      "outputs": []
    },
    {
      "cell_type": "code",
      "metadata": {
        "colab": {
          "base_uri": "https://localhost:8080/"
        },
        "id": "fCIe9lnuSVi8",
        "outputId": "3b0c4001-8565-4cc4-959c-d557f9ee78e0"
      },
      "source": [
        "nltk.download('punkt')"
      ],
      "execution_count": 75,
      "outputs": [
        {
          "output_type": "stream",
          "name": "stdout",
          "text": [
            "[nltk_data] Downloading package punkt to /root/nltk_data...\n",
            "[nltk_data]   Package punkt is already up-to-date!\n"
          ]
        },
        {
          "output_type": "execute_result",
          "data": {
            "text/plain": [
              "True"
            ]
          },
          "metadata": {},
          "execution_count": 75
        }
      ]
    },
    {
      "cell_type": "code",
      "metadata": {
        "id": "YDRYViIxSb8-"
      },
      "source": [
        "from nltk.corpus import stopwords"
      ],
      "execution_count": 76,
      "outputs": []
    },
    {
      "cell_type": "code",
      "metadata": {
        "colab": {
          "base_uri": "https://localhost:8080/"
        },
        "id": "pZN8SzzjS-5B",
        "outputId": "cdce66a0-c104-4b11-dd73-f999cbf15060"
      },
      "source": [
        "nltk.download('stopwords')"
      ],
      "execution_count": 77,
      "outputs": [
        {
          "output_type": "stream",
          "name": "stdout",
          "text": [
            "[nltk_data] Downloading package stopwords to /root/nltk_data...\n",
            "[nltk_data]   Package stopwords is already up-to-date!\n"
          ]
        },
        {
          "output_type": "execute_result",
          "data": {
            "text/plain": [
              "True"
            ]
          },
          "metadata": {},
          "execution_count": 77
        }
      ]
    },
    {
      "cell_type": "code",
      "metadata": {
        "id": "T2TZj2RtSsZC"
      },
      "source": [
        "stopwords=stopwords.words('english')"
      ],
      "execution_count": 78,
      "outputs": []
    },
    {
      "cell_type": "code",
      "metadata": {
        "colab": {
          "base_uri": "https://localhost:8080/"
        },
        "id": "pTW88lUNWdEV",
        "outputId": "9e6371d2-ac0c-4ec0-e05e-6edbb86e0e1f"
      },
      "source": [
        "!pip install contractions"
      ],
      "execution_count": 79,
      "outputs": [
        {
          "output_type": "stream",
          "name": "stdout",
          "text": [
            "Requirement already satisfied: contractions in /usr/local/lib/python3.7/dist-packages (0.0.58)\n",
            "Requirement already satisfied: textsearch>=0.0.21 in /usr/local/lib/python3.7/dist-packages (from contractions) (0.0.21)\n",
            "Requirement already satisfied: anyascii in /usr/local/lib/python3.7/dist-packages (from textsearch>=0.0.21->contractions) (0.3.0)\n",
            "Requirement already satisfied: pyahocorasick in /usr/local/lib/python3.7/dist-packages (from textsearch>=0.0.21->contractions) (1.4.2)\n"
          ]
        }
      ]
    },
    {
      "cell_type": "code",
      "metadata": {
        "id": "KGbinPe1WnKD"
      },
      "source": [
        "import contractions"
      ],
      "execution_count": 80,
      "outputs": []
    },
    {
      "cell_type": "code",
      "metadata": {
        "id": "jQkQ9Nl46t6e"
      },
      "source": [
        "from nltk.tokenize import sent_tokenize, word_tokenize"
      ],
      "execution_count": 82,
      "outputs": []
    },
    {
      "cell_type": "code",
      "metadata": {
        "id": "08cv-vfK1dU3"
      },
      "source": [
        "import re"
      ],
      "execution_count": 83,
      "outputs": []
    },
    {
      "cell_type": "code",
      "metadata": {
        "id": "sod4VKrGvxCu"
      },
      "source": [
        "def proc_mail(x):\n",
        "    #x = str(x)\n",
        "    sent = []\n",
        "    for i in sent_tokenize(x):\n",
        "      i = re.sub(\"\\n\",\"\",i)\n",
        "      i = re.sub(\"\\r\",\"\",i)\n",
        "      i=contractions.fix(i)\n",
        "      i = re.sub('(<[\\w\\s]*/?>)',\"\",i)\n",
        "      i = re.sub('^((ftp|http|https):\\/\\/)?(www.)?(?!.*(ftp|http|https|www.))[a-zA-Z0-9_-]+(\\.[a-zA-Z]+)+((\\/)[\\w#]+)*(\\/\\w+\\?[a-zA-Z0-9_]+=\\w+(&[a-zA-Z0-9_]+=\\w+)*)?$',\"url\",i)\n",
        "      i = re.sub('\\d+',\"\",i)\n",
        "      i = re.sub(\"-\",\"\",i)\n",
        "      i = re.sub(\"\\(\",\"\",i)\n",
        "      i = re.sub(\"\\)\",\"\",i)\n",
        "      i = re.sub(\"\\.\",\"\",i)\n",
        "      i = re.sub(\"\\,\",\"\",i)\n",
        "      i = re.sub(\"\\!\",\"\",i)\n",
        "      i = re.sub(\"\\:\",\"\",i)\n",
        "      i = re.sub(\"\\;\",\"\",i)\n",
        "      i = re.sub(\"\\/\",\"\",i)\n",
        "      i = i.replace(\"#\",\"\")\n",
        "      i = i.replace(\"'\",\"\")\n",
        "      i = i.replace(u'\\xa0', u' ')\n",
        "      i = re.sub('(?<=\")([^\"]+)(?=\")\"', '', i)\n",
        "      sent.append(i.lower())\n",
        "\n",
        "    clnd_eml = []\n",
        "    for ii in sent:\n",
        "      tmp=[]\n",
        "      for j in word_tokenize(ii):\n",
        "        tmp.append(j)\n",
        "      clnd_eml.append(tmp)\n",
        "    return clnd_eml\n",
        "    \n",
        "    \n"
      ],
      "execution_count": 84,
      "outputs": []
    },
    {
      "cell_type": "code",
      "metadata": {
        "id": "kax0LVuIcdSt"
      },
      "source": [
        "def proc2_mail(x):\n",
        "    #x = str(x)\n",
        "    sent = []\n",
        "    for i in sent_tokenize(x):\n",
        "      i = re.sub(\"\\n\",\"\",i)\n",
        "      i = re.sub(\"\\r\",\"\",i)\n",
        "      i=contractions.fix(i)\n",
        "      i = re.sub('(<[\\w\\s]*/?>)',\"\",i)\n",
        "      i = re.sub('^((ftp|http|https):\\/\\/)?(www.)?(?!.*(ftp|http|https|www.))[a-zA-Z0-9_-]+(\\.[a-zA-Z]+)+((\\/)[\\w#]+)*(\\/\\w+\\?[a-zA-Z0-9_]+=\\w+(&[a-zA-Z0-9_]+=\\w+)*)?$',\"url\",i)\n",
        "      i = re.sub('\\d+',\"\",i)\n",
        "      i = re.sub(\"-\",\"\",i)\n",
        "      i = re.sub(\"\\(\",\"\",i)\n",
        "      i = re.sub(\"\\)\",\"\",i)\n",
        "      i = re.sub(\"\\.\",\"\",i)\n",
        "      i = re.sub(\"\\,\",\"\",i)\n",
        "      i = re.sub(\"\\!\",\"\",i)\n",
        "      i = re.sub(\"\\:\",\"\",i)\n",
        "      i = re.sub(\"\\;\",\"\",i)\n",
        "      i = re.sub(\"\\/\",\"\",i)\n",
        "      i = i.replace(\"#\",\"\")\n",
        "      i = i.replace(\"'\",\"\")\n",
        "      i = i.replace(u'\\xa0', u' ')\n",
        "      i = re.sub('(?<=\")([^\"]+)(?=\")\"', '', i)\n",
        "      sent.append(i.lower())\n",
        "\n",
        "    clnd_eml = []\n",
        "    for ii in sent:\n",
        "      for j in word_tokenize(ii):\n",
        "        clnd_eml.append(j)\n",
        "    return clnd_eml"
      ],
      "execution_count": 85,
      "outputs": []
    },
    {
      "cell_type": "code",
      "metadata": {
        "id": "Eu5yZ4s26Ggo"
      },
      "source": [
        "df['text1']=df['text'].apply(proc_mail)"
      ],
      "execution_count": 86,
      "outputs": []
    },
    {
      "cell_type": "code",
      "metadata": {
        "id": "zTxrzhLdc_VS"
      },
      "source": [
        "df['text2']=df['text'].apply(proc2_mail)"
      ],
      "execution_count": 87,
      "outputs": []
    },
    {
      "cell_type": "code",
      "metadata": {
        "colab": {
          "base_uri": "https://localhost:8080/"
        },
        "id": "CDGB-nXSaZ4p",
        "outputId": "0bfd8313-c76f-4641-e290-5abf813af17f"
      },
      "source": [
        "df['text2']"
      ],
      "execution_count": 88,
      "outputs": [
        {
          "output_type": "execute_result",
          "data": {
            "text/plain": [
              "0       [subject, enron, methanol, meter, this, is, a,...\n",
              "1       [subject, hpl, nom, for, january, see, attache...\n",
              "2       [subject, neon, retreatho, ho, ho, we, re, aro...\n",
              "3       [subject, photoshop, windows, office, cheap, m...\n",
              "4       [subject, re, indian, springsthis, deal, is, t...\n",
              "                              ...                        \n",
              "5166    [subject, put, the, on, the, ftthe, transport,...\n",
              "5167    [subject, and, following, nomshpl, can, t, tak...\n",
              "5168    [subject, calpine, daily, gas, nomination, >, ...\n",
              "5169    [subject, industrial, worksheets, for, august,...\n",
              "5170    [subject, important, online, banking, alertdea...\n",
              "Name: text2, Length: 5171, dtype: object"
            ]
          },
          "metadata": {},
          "execution_count": 88
        }
      ]
    },
    {
      "cell_type": "code",
      "metadata": {
        "id": "OFkXxGtEWWpX"
      },
      "source": [
        "#Label=0-->Ham\n",
        "#Label=1-->Spam\n",
        "#df2=pd.DataFrame({'text':email_cleaned,'Label':list(df['label_num'])})"
      ],
      "execution_count": 89,
      "outputs": []
    },
    {
      "cell_type": "code",
      "metadata": {
        "id": "gOIttoRtdHnL"
      },
      "source": [
        "from nltk.tokenize import sent_tokenize, word_tokenize"
      ],
      "execution_count": 90,
      "outputs": []
    },
    {
      "cell_type": "code",
      "metadata": {
        "id": "DZRMT4D7uZ0W"
      },
      "source": [
        "vocab2 = []\n",
        "for ind in df.index:\n",
        "  for i in df['text1'][ind]:\n",
        "    vocab2.append(i)\n"
      ],
      "execution_count": 91,
      "outputs": []
    },
    {
      "cell_type": "code",
      "metadata": {
        "id": "3iYe8fZ7H3eL"
      },
      "source": [
        "import numpy as np"
      ],
      "execution_count": 92,
      "outputs": []
    },
    {
      "cell_type": "code",
      "metadata": {
        "id": "s03U0ErjIy8F"
      },
      "source": [
        "import gensim\n",
        "from gensim.models import Word2Vec"
      ],
      "execution_count": 93,
      "outputs": []
    },
    {
      "cell_type": "code",
      "metadata": {
        "id": "HzTXjlg1JQb4"
      },
      "source": [
        "model = Word2Vec(vocab2, min_count=1, size=100)"
      ],
      "execution_count": 94,
      "outputs": []
    },
    {
      "cell_type": "code",
      "metadata": {
        "id": "-ept1vA-WSUX"
      },
      "source": [
        "flattened_vocab = [val for sublist in vocab2 for val in sublist]"
      ],
      "execution_count": 95,
      "outputs": []
    },
    {
      "cell_type": "code",
      "metadata": {
        "id": "VsHrTnPYG5SI"
      },
      "source": [
        "def trnsfrm_vec(lst):\n",
        "  transformed = []\n",
        "  for i in lst:\n",
        "    tmp = np.zeros(100)\n",
        "    count=0\n",
        "    for j in i:\n",
        "      if j in flattened_vocab:\n",
        "        tmp += model.wv.get_vector(j)\n",
        "        count += 1\n",
        "      else:\n",
        "        tmp += np.zeros(100)\n",
        "    if (count != 0):\n",
        "      transformed.append(tmp/count)\n",
        "    else:\n",
        "      transformed.append(tmp)\n",
        "\n",
        "  return np.array(transformed)\n",
        "\n",
        "       \n",
        "\n"
      ],
      "execution_count": 96,
      "outputs": []
    },
    {
      "cell_type": "code",
      "metadata": {
        "id": "oti4HdGofELL"
      },
      "source": [
        "def trnsfrm_vec2(lst):\n",
        "  transformed = []\n",
        "  tmp = np.zeros(100)\n",
        "  count=0\n",
        "  for i in lst:\n",
        "    if i in flattened_vocab:\n",
        "      tmp += model.wv.get_vector(i)\n",
        "      count += 1\n",
        "    else:\n",
        "      tmp += np.zeros(100)\n",
        "    \n",
        "  return list(tmp)\n",
        "\n",
        " "
      ],
      "execution_count": 97,
      "outputs": []
    },
    {
      "cell_type": "code",
      "metadata": {
        "id": "cWEVpDPsYOhT"
      },
      "source": [
        "#df['wv']=df['text1'].apply(trnsfrm_vec)"
      ],
      "execution_count": 98,
      "outputs": []
    },
    {
      "cell_type": "code",
      "metadata": {
        "id": "mS1_ssLUKks6"
      },
      "source": [
        "#trnsfrm_vec2(df['text2'][0])"
      ],
      "execution_count": 99,
      "outputs": []
    },
    {
      "cell_type": "code",
      "metadata": {
        "id": "hm4xl4iFhgJW"
      },
      "source": [
        "df['wv2'] = df['text2'].apply(trnsfrm_vec2)"
      ],
      "execution_count": 100,
      "outputs": []
    },
    {
      "cell_type": "code",
      "metadata": {
        "colab": {
          "base_uri": "https://localhost:8080/",
          "height": 719
        },
        "id": "W-fBTJ_qYZfu",
        "outputId": "2d7d421b-e44b-47d6-a830-fd1f723c24f9"
      },
      "source": [
        "df"
      ],
      "execution_count": 101,
      "outputs": [
        {
          "output_type": "execute_result",
          "data": {
            "text/html": [
              "<div>\n",
              "<style scoped>\n",
              "    .dataframe tbody tr th:only-of-type {\n",
              "        vertical-align: middle;\n",
              "    }\n",
              "\n",
              "    .dataframe tbody tr th {\n",
              "        vertical-align: top;\n",
              "    }\n",
              "\n",
              "    .dataframe thead th {\n",
              "        text-align: right;\n",
              "    }\n",
              "</style>\n",
              "<table border=\"1\" class=\"dataframe\">\n",
              "  <thead>\n",
              "    <tr style=\"text-align: right;\">\n",
              "      <th></th>\n",
              "      <th>Unnamed: 0</th>\n",
              "      <th>label</th>\n",
              "      <th>text</th>\n",
              "      <th>label_num</th>\n",
              "      <th>text1</th>\n",
              "      <th>text2</th>\n",
              "      <th>wv2</th>\n",
              "    </tr>\n",
              "  </thead>\n",
              "  <tbody>\n",
              "    <tr>\n",
              "      <th>0</th>\n",
              "      <td>605</td>\n",
              "      <td>ham</td>\n",
              "      <td>Subject: enron methanol ; meter # : 988291\\r\\n...</td>\n",
              "      <td>0</td>\n",
              "      <td>[[subject, enron, methanol, meter, this, is, a...</td>\n",
              "      <td>[subject, enron, methanol, meter, this, is, a,...</td>\n",
              "      <td>[31.717839557677507, 2.8515269570052624, 28.59...</td>\n",
              "    </tr>\n",
              "    <tr>\n",
              "      <th>1</th>\n",
              "      <td>2349</td>\n",
              "      <td>ham</td>\n",
              "      <td>Subject: hpl nom for january 9 , 2001\\r\\n( see...</td>\n",
              "      <td>0</td>\n",
              "      <td>[[subject, hpl, nom, for, january, see, attach...</td>\n",
              "      <td>[subject, hpl, nom, for, january, see, attache...</td>\n",
              "      <td>[16.954579800367355, 5.3669924235437065, 3.185...</td>\n",
              "    </tr>\n",
              "    <tr>\n",
              "      <th>2</th>\n",
              "      <td>3624</td>\n",
              "      <td>ham</td>\n",
              "      <td>Subject: neon retreat\\r\\nho ho ho , we ' re ar...</td>\n",
              "      <td>0</td>\n",
              "      <td>[[subject, neon, retreatho, ho, ho, we, re, ar...</td>\n",
              "      <td>[subject, neon, retreatho, ho, ho, we, re, aro...</td>\n",
              "      <td>[220.541595484945, -68.1832795960363, 325.3462...</td>\n",
              "    </tr>\n",
              "    <tr>\n",
              "      <th>3</th>\n",
              "      <td>4685</td>\n",
              "      <td>spam</td>\n",
              "      <td>Subject: photoshop , windows , office . cheap ...</td>\n",
              "      <td>1</td>\n",
              "      <td>[[subject, photoshop, windows, office], [cheap...</td>\n",
              "      <td>[subject, photoshop, windows, office, cheap, m...</td>\n",
              "      <td>[4.273417977616191, 3.417946890927851, 3.44650...</td>\n",
              "    </tr>\n",
              "    <tr>\n",
              "      <th>4</th>\n",
              "      <td>2030</td>\n",
              "      <td>ham</td>\n",
              "      <td>Subject: re : indian springs\\r\\nthis deal is t...</td>\n",
              "      <td>0</td>\n",
              "      <td>[[subject, re, indian, springsthis, deal, is, ...</td>\n",
              "      <td>[subject, re, indian, springsthis, deal, is, t...</td>\n",
              "      <td>[23.329569352325052, -13.855886809062213, 50.1...</td>\n",
              "    </tr>\n",
              "    <tr>\n",
              "      <th>...</th>\n",
              "      <td>...</td>\n",
              "      <td>...</td>\n",
              "      <td>...</td>\n",
              "      <td>...</td>\n",
              "      <td>...</td>\n",
              "      <td>...</td>\n",
              "      <td>...</td>\n",
              "    </tr>\n",
              "    <tr>\n",
              "      <th>5166</th>\n",
              "      <td>1518</td>\n",
              "      <td>ham</td>\n",
              "      <td>Subject: put the 10 on the ft\\r\\nthe transport...</td>\n",
              "      <td>0</td>\n",
              "      <td>[[subject, put, the, on, the, ftthe, transport...</td>\n",
              "      <td>[subject, put, the, on, the, ftthe, transport,...</td>\n",
              "      <td>[56.90711079072207, 21.101586551056243, 15.699...</td>\n",
              "    </tr>\n",
              "    <tr>\n",
              "      <th>5167</th>\n",
              "      <td>404</td>\n",
              "      <td>ham</td>\n",
              "      <td>Subject: 3 / 4 / 2000 and following noms\\r\\nhp...</td>\n",
              "      <td>0</td>\n",
              "      <td>[[subject, and, following, nomshpl, can, t, ta...</td>\n",
              "      <td>[subject, and, following, nomshpl, can, t, tak...</td>\n",
              "      <td>[110.18530323775485, 42.173541460651904, 52.24...</td>\n",
              "    </tr>\n",
              "    <tr>\n",
              "      <th>5168</th>\n",
              "      <td>2933</td>\n",
              "      <td>ham</td>\n",
              "      <td>Subject: calpine daily gas nomination\\r\\n&gt;\\r\\n...</td>\n",
              "      <td>0</td>\n",
              "      <td>[[subject, calpine, daily, gas, nomination, &gt;,...</td>\n",
              "      <td>[subject, calpine, daily, gas, nomination, &gt;, ...</td>\n",
              "      <td>[21.39389825743274, -7.809902112931013, 23.455...</td>\n",
              "    </tr>\n",
              "    <tr>\n",
              "      <th>5169</th>\n",
              "      <td>1409</td>\n",
              "      <td>ham</td>\n",
              "      <td>Subject: industrial worksheets for august 2000...</td>\n",
              "      <td>0</td>\n",
              "      <td>[[subject, industrial, worksheets, for, august...</td>\n",
              "      <td>[subject, industrial, worksheets, for, august,...</td>\n",
              "      <td>[53.33518107398413, 15.244462654925883, 30.668...</td>\n",
              "    </tr>\n",
              "    <tr>\n",
              "      <th>5170</th>\n",
              "      <td>4807</td>\n",
              "      <td>spam</td>\n",
              "      <td>Subject: important online banking alert\\r\\ndea...</td>\n",
              "      <td>1</td>\n",
              "      <td>[[subject, important, online, banking, alertde...</td>\n",
              "      <td>[subject, important, online, banking, alertdea...</td>\n",
              "      <td>[88.3001975370571, -18.79745726613328, 143.636...</td>\n",
              "    </tr>\n",
              "  </tbody>\n",
              "</table>\n",
              "<p>5171 rows × 7 columns</p>\n",
              "</div>"
            ],
            "text/plain": [
              "      Unnamed: 0  ...                                                wv2\n",
              "0            605  ...  [31.717839557677507, 2.8515269570052624, 28.59...\n",
              "1           2349  ...  [16.954579800367355, 5.3669924235437065, 3.185...\n",
              "2           3624  ...  [220.541595484945, -68.1832795960363, 325.3462...\n",
              "3           4685  ...  [4.273417977616191, 3.417946890927851, 3.44650...\n",
              "4           2030  ...  [23.329569352325052, -13.855886809062213, 50.1...\n",
              "...          ...  ...                                                ...\n",
              "5166        1518  ...  [56.90711079072207, 21.101586551056243, 15.699...\n",
              "5167         404  ...  [110.18530323775485, 42.173541460651904, 52.24...\n",
              "5168        2933  ...  [21.39389825743274, -7.809902112931013, 23.455...\n",
              "5169        1409  ...  [53.33518107398413, 15.244462654925883, 30.668...\n",
              "5170        4807  ...  [88.3001975370571, -18.79745726613328, 143.636...\n",
              "\n",
              "[5171 rows x 7 columns]"
            ]
          },
          "metadata": {},
          "execution_count": 101
        }
      ]
    },
    {
      "cell_type": "code",
      "metadata": {
        "id": "NvaGeZtwQQld"
      },
      "source": [
        "#df.wv2.str[0]"
      ],
      "execution_count": 102,
      "outputs": []
    },
    {
      "cell_type": "code",
      "metadata": {
        "id": "jQvKKS90Sfdb"
      },
      "source": [
        "for i in range(100):\n",
        "  df['word_'+str(i)]=df.wv2.str[i]"
      ],
      "execution_count": 103,
      "outputs": []
    },
    {
      "cell_type": "code",
      "metadata": {
        "colab": {
          "base_uri": "https://localhost:8080/"
        },
        "id": "90RLR1UnTLwC",
        "outputId": "0effaf12-a412-48f9-cb68-a39ae27af8d8"
      },
      "source": [
        "df['word_0'].dtype"
      ],
      "execution_count": 104,
      "outputs": [
        {
          "output_type": "execute_result",
          "data": {
            "text/plain": [
              "dtype('float64')"
            ]
          },
          "metadata": {},
          "execution_count": 104
        }
      ]
    },
    {
      "cell_type": "code",
      "metadata": {
        "id": "ceYALw0I9NDe"
      },
      "source": [
        "#df['shape']=df['wv'].shape()"
      ],
      "execution_count": 105,
      "outputs": []
    },
    {
      "cell_type": "code",
      "metadata": {
        "colab": {
          "base_uri": "https://localhost:8080/"
        },
        "id": "vU123MRLTqH-",
        "outputId": "24afcd98-6749-46c4-b235-7b3d62ebe330"
      },
      "source": [
        "df.columns"
      ],
      "execution_count": 106,
      "outputs": [
        {
          "output_type": "execute_result",
          "data": {
            "text/plain": [
              "Index(['Unnamed: 0', 'label', 'text', 'label_num', 'text1', 'text2', 'wv2',\n",
              "       'word_0', 'word_1', 'word_2',\n",
              "       ...\n",
              "       'word_90', 'word_91', 'word_92', 'word_93', 'word_94', 'word_95',\n",
              "       'word_96', 'word_97', 'word_98', 'word_99'],\n",
              "      dtype='object', length=107)"
            ]
          },
          "metadata": {},
          "execution_count": 106
        }
      ]
    },
    {
      "cell_type": "code",
      "metadata": {
        "id": "WS3mn5ePa8ss"
      },
      "source": [
        "y=df['label_num']"
      ],
      "execution_count": 107,
      "outputs": []
    },
    {
      "cell_type": "code",
      "metadata": {
        "id": "WqOk924eUT8t"
      },
      "source": [
        "word_cols = ['word_'+str(i) for i in range(100)]"
      ],
      "execution_count": 108,
      "outputs": []
    },
    {
      "cell_type": "code",
      "metadata": {
        "id": "v07Er0kvnDDE"
      },
      "source": [
        "X=df[word_cols]"
      ],
      "execution_count": 109,
      "outputs": []
    },
    {
      "cell_type": "code",
      "metadata": {
        "colab": {
          "base_uri": "https://localhost:8080/",
          "height": 444
        },
        "id": "g9FPhNB0nMEb",
        "outputId": "d2e31779-b1c2-4062-bc35-59620d087d09"
      },
      "source": [
        "X"
      ],
      "execution_count": 110,
      "outputs": [
        {
          "output_type": "execute_result",
          "data": {
            "text/html": [
              "<div>\n",
              "<style scoped>\n",
              "    .dataframe tbody tr th:only-of-type {\n",
              "        vertical-align: middle;\n",
              "    }\n",
              "\n",
              "    .dataframe tbody tr th {\n",
              "        vertical-align: top;\n",
              "    }\n",
              "\n",
              "    .dataframe thead th {\n",
              "        text-align: right;\n",
              "    }\n",
              "</style>\n",
              "<table border=\"1\" class=\"dataframe\">\n",
              "  <thead>\n",
              "    <tr style=\"text-align: right;\">\n",
              "      <th></th>\n",
              "      <th>word_0</th>\n",
              "      <th>word_1</th>\n",
              "      <th>word_2</th>\n",
              "      <th>word_3</th>\n",
              "      <th>word_4</th>\n",
              "      <th>word_5</th>\n",
              "      <th>word_6</th>\n",
              "      <th>word_7</th>\n",
              "      <th>word_8</th>\n",
              "      <th>word_9</th>\n",
              "      <th>word_10</th>\n",
              "      <th>word_11</th>\n",
              "      <th>word_12</th>\n",
              "      <th>word_13</th>\n",
              "      <th>word_14</th>\n",
              "      <th>word_15</th>\n",
              "      <th>word_16</th>\n",
              "      <th>word_17</th>\n",
              "      <th>word_18</th>\n",
              "      <th>word_19</th>\n",
              "      <th>word_20</th>\n",
              "      <th>word_21</th>\n",
              "      <th>word_22</th>\n",
              "      <th>word_23</th>\n",
              "      <th>word_24</th>\n",
              "      <th>word_25</th>\n",
              "      <th>word_26</th>\n",
              "      <th>word_27</th>\n",
              "      <th>word_28</th>\n",
              "      <th>word_29</th>\n",
              "      <th>word_30</th>\n",
              "      <th>word_31</th>\n",
              "      <th>word_32</th>\n",
              "      <th>word_33</th>\n",
              "      <th>word_34</th>\n",
              "      <th>word_35</th>\n",
              "      <th>word_36</th>\n",
              "      <th>word_37</th>\n",
              "      <th>word_38</th>\n",
              "      <th>word_39</th>\n",
              "      <th>...</th>\n",
              "      <th>word_60</th>\n",
              "      <th>word_61</th>\n",
              "      <th>word_62</th>\n",
              "      <th>word_63</th>\n",
              "      <th>word_64</th>\n",
              "      <th>word_65</th>\n",
              "      <th>word_66</th>\n",
              "      <th>word_67</th>\n",
              "      <th>word_68</th>\n",
              "      <th>word_69</th>\n",
              "      <th>word_70</th>\n",
              "      <th>word_71</th>\n",
              "      <th>word_72</th>\n",
              "      <th>word_73</th>\n",
              "      <th>word_74</th>\n",
              "      <th>word_75</th>\n",
              "      <th>word_76</th>\n",
              "      <th>word_77</th>\n",
              "      <th>word_78</th>\n",
              "      <th>word_79</th>\n",
              "      <th>word_80</th>\n",
              "      <th>word_81</th>\n",
              "      <th>word_82</th>\n",
              "      <th>word_83</th>\n",
              "      <th>word_84</th>\n",
              "      <th>word_85</th>\n",
              "      <th>word_86</th>\n",
              "      <th>word_87</th>\n",
              "      <th>word_88</th>\n",
              "      <th>word_89</th>\n",
              "      <th>word_90</th>\n",
              "      <th>word_91</th>\n",
              "      <th>word_92</th>\n",
              "      <th>word_93</th>\n",
              "      <th>word_94</th>\n",
              "      <th>word_95</th>\n",
              "      <th>word_96</th>\n",
              "      <th>word_97</th>\n",
              "      <th>word_98</th>\n",
              "      <th>word_99</th>\n",
              "    </tr>\n",
              "  </thead>\n",
              "  <tbody>\n",
              "    <tr>\n",
              "      <th>0</th>\n",
              "      <td>31.717840</td>\n",
              "      <td>2.851527</td>\n",
              "      <td>28.599925</td>\n",
              "      <td>-9.194441</td>\n",
              "      <td>-17.435172</td>\n",
              "      <td>-19.414459</td>\n",
              "      <td>47.285325</td>\n",
              "      <td>-12.638707</td>\n",
              "      <td>-76.592656</td>\n",
              "      <td>-52.980329</td>\n",
              "      <td>9.209862</td>\n",
              "      <td>-28.028079</td>\n",
              "      <td>15.435844</td>\n",
              "      <td>-4.254348</td>\n",
              "      <td>38.679708</td>\n",
              "      <td>38.696698</td>\n",
              "      <td>-11.480849</td>\n",
              "      <td>23.291484</td>\n",
              "      <td>41.473731</td>\n",
              "      <td>4.488538</td>\n",
              "      <td>7.780139</td>\n",
              "      <td>-13.303257</td>\n",
              "      <td>-3.326901</td>\n",
              "      <td>-5.436198</td>\n",
              "      <td>-44.179897</td>\n",
              "      <td>3.398932</td>\n",
              "      <td>8.342791</td>\n",
              "      <td>-32.386323</td>\n",
              "      <td>-61.093093</td>\n",
              "      <td>-73.113764</td>\n",
              "      <td>-21.976043</td>\n",
              "      <td>-30.538058</td>\n",
              "      <td>13.621410</td>\n",
              "      <td>-4.565231</td>\n",
              "      <td>95.094509</td>\n",
              "      <td>16.195681</td>\n",
              "      <td>10.433339</td>\n",
              "      <td>-3.644650</td>\n",
              "      <td>-39.112656</td>\n",
              "      <td>-50.649736</td>\n",
              "      <td>...</td>\n",
              "      <td>2.655347</td>\n",
              "      <td>9.804307</td>\n",
              "      <td>-60.768938</td>\n",
              "      <td>15.651474</td>\n",
              "      <td>-9.614047</td>\n",
              "      <td>-43.795543</td>\n",
              "      <td>-26.917969</td>\n",
              "      <td>58.270962</td>\n",
              "      <td>43.610677</td>\n",
              "      <td>8.425332</td>\n",
              "      <td>0.670585</td>\n",
              "      <td>-8.485290</td>\n",
              "      <td>3.376178</td>\n",
              "      <td>-15.783959</td>\n",
              "      <td>28.805007</td>\n",
              "      <td>-9.972143</td>\n",
              "      <td>-0.460721</td>\n",
              "      <td>-78.339015</td>\n",
              "      <td>-54.996680</td>\n",
              "      <td>-60.101896</td>\n",
              "      <td>20.735239</td>\n",
              "      <td>-4.364705</td>\n",
              "      <td>-20.006407</td>\n",
              "      <td>-40.612449</td>\n",
              "      <td>2.305488</td>\n",
              "      <td>-4.102298</td>\n",
              "      <td>-2.841794</td>\n",
              "      <td>-8.117547</td>\n",
              "      <td>39.184088</td>\n",
              "      <td>-2.284804</td>\n",
              "      <td>22.726121</td>\n",
              "      <td>-53.083755</td>\n",
              "      <td>-62.637135</td>\n",
              "      <td>26.764033</td>\n",
              "      <td>-53.896304</td>\n",
              "      <td>-2.599241</td>\n",
              "      <td>23.199866</td>\n",
              "      <td>-1.553805</td>\n",
              "      <td>-37.828361</td>\n",
              "      <td>-15.403803</td>\n",
              "    </tr>\n",
              "    <tr>\n",
              "      <th>1</th>\n",
              "      <td>16.954580</td>\n",
              "      <td>5.366992</td>\n",
              "      <td>3.185332</td>\n",
              "      <td>1.244596</td>\n",
              "      <td>1.910039</td>\n",
              "      <td>5.194413</td>\n",
              "      <td>13.178008</td>\n",
              "      <td>-10.698968</td>\n",
              "      <td>-15.120009</td>\n",
              "      <td>-19.310434</td>\n",
              "      <td>-0.571968</td>\n",
              "      <td>-9.283764</td>\n",
              "      <td>9.519303</td>\n",
              "      <td>5.017954</td>\n",
              "      <td>7.857357</td>\n",
              "      <td>5.730210</td>\n",
              "      <td>-10.033089</td>\n",
              "      <td>-4.276838</td>\n",
              "      <td>13.272896</td>\n",
              "      <td>-8.087770</td>\n",
              "      <td>11.596712</td>\n",
              "      <td>-1.198948</td>\n",
              "      <td>0.035341</td>\n",
              "      <td>0.915970</td>\n",
              "      <td>-16.042366</td>\n",
              "      <td>1.431708</td>\n",
              "      <td>-0.106576</td>\n",
              "      <td>-7.885911</td>\n",
              "      <td>-12.837284</td>\n",
              "      <td>-7.518907</td>\n",
              "      <td>9.785355</td>\n",
              "      <td>-11.190798</td>\n",
              "      <td>8.139552</td>\n",
              "      <td>-3.842298</td>\n",
              "      <td>8.356965</td>\n",
              "      <td>-0.636546</td>\n",
              "      <td>0.395563</td>\n",
              "      <td>-11.203103</td>\n",
              "      <td>-12.360002</td>\n",
              "      <td>-9.009903</td>\n",
              "      <td>...</td>\n",
              "      <td>3.304677</td>\n",
              "      <td>6.959223</td>\n",
              "      <td>-11.144420</td>\n",
              "      <td>1.345384</td>\n",
              "      <td>-8.834962</td>\n",
              "      <td>-3.984620</td>\n",
              "      <td>-1.341788</td>\n",
              "      <td>-0.183033</td>\n",
              "      <td>5.557444</td>\n",
              "      <td>-0.292451</td>\n",
              "      <td>0.125750</td>\n",
              "      <td>-2.079219</td>\n",
              "      <td>3.033582</td>\n",
              "      <td>0.610584</td>\n",
              "      <td>1.893177</td>\n",
              "      <td>-2.934180</td>\n",
              "      <td>-15.095600</td>\n",
              "      <td>-19.204890</td>\n",
              "      <td>-23.084129</td>\n",
              "      <td>-13.063034</td>\n",
              "      <td>1.996946</td>\n",
              "      <td>-15.240999</td>\n",
              "      <td>-1.911706</td>\n",
              "      <td>-9.913055</td>\n",
              "      <td>-1.597635</td>\n",
              "      <td>-0.589449</td>\n",
              "      <td>1.408710</td>\n",
              "      <td>-6.471445</td>\n",
              "      <td>18.848896</td>\n",
              "      <td>6.247121</td>\n",
              "      <td>11.780687</td>\n",
              "      <td>-7.489952</td>\n",
              "      <td>-11.392533</td>\n",
              "      <td>0.445788</td>\n",
              "      <td>-12.573230</td>\n",
              "      <td>7.243082</td>\n",
              "      <td>-0.364284</td>\n",
              "      <td>-11.161595</td>\n",
              "      <td>-4.314158</td>\n",
              "      <td>-0.680848</td>\n",
              "    </tr>\n",
              "    <tr>\n",
              "      <th>2</th>\n",
              "      <td>220.541595</td>\n",
              "      <td>-68.183280</td>\n",
              "      <td>325.346262</td>\n",
              "      <td>-81.910591</td>\n",
              "      <td>-277.027704</td>\n",
              "      <td>-213.258559</td>\n",
              "      <td>370.190578</td>\n",
              "      <td>-201.850635</td>\n",
              "      <td>-706.639015</td>\n",
              "      <td>-386.298314</td>\n",
              "      <td>129.433739</td>\n",
              "      <td>-172.873352</td>\n",
              "      <td>158.293218</td>\n",
              "      <td>-94.108174</td>\n",
              "      <td>218.288818</td>\n",
              "      <td>299.200385</td>\n",
              "      <td>-12.230682</td>\n",
              "      <td>331.628495</td>\n",
              "      <td>398.106895</td>\n",
              "      <td>6.996071</td>\n",
              "      <td>13.635551</td>\n",
              "      <td>-137.628025</td>\n",
              "      <td>-137.594464</td>\n",
              "      <td>-143.960159</td>\n",
              "      <td>-369.978891</td>\n",
              "      <td>-80.841524</td>\n",
              "      <td>-20.828336</td>\n",
              "      <td>-228.817961</td>\n",
              "      <td>-481.972282</td>\n",
              "      <td>-614.519387</td>\n",
              "      <td>-310.731454</td>\n",
              "      <td>-276.004402</td>\n",
              "      <td>73.324247</td>\n",
              "      <td>-47.906810</td>\n",
              "      <td>925.353118</td>\n",
              "      <td>329.937766</td>\n",
              "      <td>174.173213</td>\n",
              "      <td>67.730015</td>\n",
              "      <td>-536.127307</td>\n",
              "      <td>-701.821139</td>\n",
              "      <td>...</td>\n",
              "      <td>-102.328856</td>\n",
              "      <td>-6.893160</td>\n",
              "      <td>-582.078397</td>\n",
              "      <td>5.699177</td>\n",
              "      <td>-113.212732</td>\n",
              "      <td>-411.089855</td>\n",
              "      <td>-209.123011</td>\n",
              "      <td>686.659072</td>\n",
              "      <td>388.794749</td>\n",
              "      <td>-54.606353</td>\n",
              "      <td>-19.671049</td>\n",
              "      <td>-14.572306</td>\n",
              "      <td>208.976075</td>\n",
              "      <td>-162.434917</td>\n",
              "      <td>276.249525</td>\n",
              "      <td>-121.965798</td>\n",
              "      <td>4.536296</td>\n",
              "      <td>-747.098404</td>\n",
              "      <td>-337.887552</td>\n",
              "      <td>-339.566243</td>\n",
              "      <td>142.274556</td>\n",
              "      <td>-50.594168</td>\n",
              "      <td>-182.351662</td>\n",
              "      <td>-279.571267</td>\n",
              "      <td>99.630155</td>\n",
              "      <td>-93.758828</td>\n",
              "      <td>47.082784</td>\n",
              "      <td>102.024178</td>\n",
              "      <td>328.890500</td>\n",
              "      <td>47.673204</td>\n",
              "      <td>251.426651</td>\n",
              "      <td>-445.940865</td>\n",
              "      <td>-585.011701</td>\n",
              "      <td>145.245709</td>\n",
              "      <td>-429.362850</td>\n",
              "      <td>-124.585473</td>\n",
              "      <td>54.110587</td>\n",
              "      <td>-73.588253</td>\n",
              "      <td>-363.415091</td>\n",
              "      <td>-164.409387</td>\n",
              "    </tr>\n",
              "    <tr>\n",
              "      <th>3</th>\n",
              "      <td>4.273418</td>\n",
              "      <td>3.417947</td>\n",
              "      <td>3.446501</td>\n",
              "      <td>4.059140</td>\n",
              "      <td>-0.504371</td>\n",
              "      <td>-0.366536</td>\n",
              "      <td>1.722346</td>\n",
              "      <td>-4.769788</td>\n",
              "      <td>-1.981991</td>\n",
              "      <td>-5.767458</td>\n",
              "      <td>4.218354</td>\n",
              "      <td>-6.508470</td>\n",
              "      <td>0.334458</td>\n",
              "      <td>3.823319</td>\n",
              "      <td>2.011397</td>\n",
              "      <td>3.891184</td>\n",
              "      <td>-2.731904</td>\n",
              "      <td>-2.333719</td>\n",
              "      <td>-1.424520</td>\n",
              "      <td>-5.603260</td>\n",
              "      <td>0.209860</td>\n",
              "      <td>0.983562</td>\n",
              "      <td>3.629729</td>\n",
              "      <td>-2.150987</td>\n",
              "      <td>-9.119770</td>\n",
              "      <td>-0.288605</td>\n",
              "      <td>-1.836263</td>\n",
              "      <td>-4.500659</td>\n",
              "      <td>-4.886870</td>\n",
              "      <td>-5.203292</td>\n",
              "      <td>3.041342</td>\n",
              "      <td>-3.675107</td>\n",
              "      <td>2.552185</td>\n",
              "      <td>1.758853</td>\n",
              "      <td>5.122927</td>\n",
              "      <td>1.496995</td>\n",
              "      <td>4.922746</td>\n",
              "      <td>-0.959250</td>\n",
              "      <td>-7.072847</td>\n",
              "      <td>-3.776058</td>\n",
              "      <td>...</td>\n",
              "      <td>-0.723467</td>\n",
              "      <td>-1.776510</td>\n",
              "      <td>-5.685787</td>\n",
              "      <td>-1.256236</td>\n",
              "      <td>1.345050</td>\n",
              "      <td>-3.294890</td>\n",
              "      <td>2.330005</td>\n",
              "      <td>0.105694</td>\n",
              "      <td>5.244346</td>\n",
              "      <td>0.035603</td>\n",
              "      <td>-5.406570</td>\n",
              "      <td>-0.108561</td>\n",
              "      <td>2.890119</td>\n",
              "      <td>0.435280</td>\n",
              "      <td>4.557856</td>\n",
              "      <td>-4.409594</td>\n",
              "      <td>-6.393267</td>\n",
              "      <td>-2.408155</td>\n",
              "      <td>-4.215035</td>\n",
              "      <td>-5.024941</td>\n",
              "      <td>3.290911</td>\n",
              "      <td>-1.446734</td>\n",
              "      <td>-4.521184</td>\n",
              "      <td>0.610911</td>\n",
              "      <td>0.891514</td>\n",
              "      <td>0.850078</td>\n",
              "      <td>1.834984</td>\n",
              "      <td>-0.864213</td>\n",
              "      <td>3.981670</td>\n",
              "      <td>-1.062900</td>\n",
              "      <td>7.211439</td>\n",
              "      <td>-0.918678</td>\n",
              "      <td>-2.825547</td>\n",
              "      <td>3.946716</td>\n",
              "      <td>1.839148</td>\n",
              "      <td>-1.138852</td>\n",
              "      <td>2.315506</td>\n",
              "      <td>-4.455250</td>\n",
              "      <td>-3.037399</td>\n",
              "      <td>-1.411401</td>\n",
              "    </tr>\n",
              "    <tr>\n",
              "      <th>4</th>\n",
              "      <td>23.329569</td>\n",
              "      <td>-13.855887</td>\n",
              "      <td>50.179162</td>\n",
              "      <td>-15.449723</td>\n",
              "      <td>-43.574825</td>\n",
              "      <td>-18.303164</td>\n",
              "      <td>55.935468</td>\n",
              "      <td>-24.579710</td>\n",
              "      <td>-101.285788</td>\n",
              "      <td>-52.924819</td>\n",
              "      <td>18.125464</td>\n",
              "      <td>-25.408147</td>\n",
              "      <td>20.377385</td>\n",
              "      <td>-11.118635</td>\n",
              "      <td>48.790792</td>\n",
              "      <td>60.347778</td>\n",
              "      <td>-7.121464</td>\n",
              "      <td>32.472527</td>\n",
              "      <td>68.469289</td>\n",
              "      <td>5.568388</td>\n",
              "      <td>10.054459</td>\n",
              "      <td>-8.614887</td>\n",
              "      <td>-11.193699</td>\n",
              "      <td>-20.823607</td>\n",
              "      <td>-54.876412</td>\n",
              "      <td>3.164037</td>\n",
              "      <td>-11.114655</td>\n",
              "      <td>-44.198158</td>\n",
              "      <td>-61.886111</td>\n",
              "      <td>-78.796068</td>\n",
              "      <td>-34.819212</td>\n",
              "      <td>-41.268992</td>\n",
              "      <td>8.633232</td>\n",
              "      <td>-13.628510</td>\n",
              "      <td>121.709802</td>\n",
              "      <td>24.317424</td>\n",
              "      <td>15.139908</td>\n",
              "      <td>-1.909868</td>\n",
              "      <td>-79.526645</td>\n",
              "      <td>-101.494669</td>\n",
              "      <td>...</td>\n",
              "      <td>-11.415089</td>\n",
              "      <td>8.069306</td>\n",
              "      <td>-67.707211</td>\n",
              "      <td>17.412876</td>\n",
              "      <td>-12.402824</td>\n",
              "      <td>-51.498221</td>\n",
              "      <td>-28.758963</td>\n",
              "      <td>86.654606</td>\n",
              "      <td>52.820198</td>\n",
              "      <td>-2.902956</td>\n",
              "      <td>-6.763590</td>\n",
              "      <td>11.317270</td>\n",
              "      <td>9.323455</td>\n",
              "      <td>-20.792344</td>\n",
              "      <td>39.645637</td>\n",
              "      <td>-33.654080</td>\n",
              "      <td>6.222401</td>\n",
              "      <td>-97.061323</td>\n",
              "      <td>-55.832368</td>\n",
              "      <td>-55.783248</td>\n",
              "      <td>3.346135</td>\n",
              "      <td>-15.505707</td>\n",
              "      <td>-11.706572</td>\n",
              "      <td>-56.343011</td>\n",
              "      <td>5.365422</td>\n",
              "      <td>-1.283934</td>\n",
              "      <td>-7.342162</td>\n",
              "      <td>4.098778</td>\n",
              "      <td>41.562445</td>\n",
              "      <td>10.543236</td>\n",
              "      <td>28.295839</td>\n",
              "      <td>-62.476498</td>\n",
              "      <td>-84.575009</td>\n",
              "      <td>32.873142</td>\n",
              "      <td>-74.554332</td>\n",
              "      <td>3.714012</td>\n",
              "      <td>19.779641</td>\n",
              "      <td>-13.341957</td>\n",
              "      <td>-57.595064</td>\n",
              "      <td>-30.106341</td>\n",
              "    </tr>\n",
              "    <tr>\n",
              "      <th>...</th>\n",
              "      <td>...</td>\n",
              "      <td>...</td>\n",
              "      <td>...</td>\n",
              "      <td>...</td>\n",
              "      <td>...</td>\n",
              "      <td>...</td>\n",
              "      <td>...</td>\n",
              "      <td>...</td>\n",
              "      <td>...</td>\n",
              "      <td>...</td>\n",
              "      <td>...</td>\n",
              "      <td>...</td>\n",
              "      <td>...</td>\n",
              "      <td>...</td>\n",
              "      <td>...</td>\n",
              "      <td>...</td>\n",
              "      <td>...</td>\n",
              "      <td>...</td>\n",
              "      <td>...</td>\n",
              "      <td>...</td>\n",
              "      <td>...</td>\n",
              "      <td>...</td>\n",
              "      <td>...</td>\n",
              "      <td>...</td>\n",
              "      <td>...</td>\n",
              "      <td>...</td>\n",
              "      <td>...</td>\n",
              "      <td>...</td>\n",
              "      <td>...</td>\n",
              "      <td>...</td>\n",
              "      <td>...</td>\n",
              "      <td>...</td>\n",
              "      <td>...</td>\n",
              "      <td>...</td>\n",
              "      <td>...</td>\n",
              "      <td>...</td>\n",
              "      <td>...</td>\n",
              "      <td>...</td>\n",
              "      <td>...</td>\n",
              "      <td>...</td>\n",
              "      <td>...</td>\n",
              "      <td>...</td>\n",
              "      <td>...</td>\n",
              "      <td>...</td>\n",
              "      <td>...</td>\n",
              "      <td>...</td>\n",
              "      <td>...</td>\n",
              "      <td>...</td>\n",
              "      <td>...</td>\n",
              "      <td>...</td>\n",
              "      <td>...</td>\n",
              "      <td>...</td>\n",
              "      <td>...</td>\n",
              "      <td>...</td>\n",
              "      <td>...</td>\n",
              "      <td>...</td>\n",
              "      <td>...</td>\n",
              "      <td>...</td>\n",
              "      <td>...</td>\n",
              "      <td>...</td>\n",
              "      <td>...</td>\n",
              "      <td>...</td>\n",
              "      <td>...</td>\n",
              "      <td>...</td>\n",
              "      <td>...</td>\n",
              "      <td>...</td>\n",
              "      <td>...</td>\n",
              "      <td>...</td>\n",
              "      <td>...</td>\n",
              "      <td>...</td>\n",
              "      <td>...</td>\n",
              "      <td>...</td>\n",
              "      <td>...</td>\n",
              "      <td>...</td>\n",
              "      <td>...</td>\n",
              "      <td>...</td>\n",
              "      <td>...</td>\n",
              "      <td>...</td>\n",
              "      <td>...</td>\n",
              "      <td>...</td>\n",
              "      <td>...</td>\n",
              "    </tr>\n",
              "    <tr>\n",
              "      <th>5166</th>\n",
              "      <td>56.907111</td>\n",
              "      <td>21.101587</td>\n",
              "      <td>15.699399</td>\n",
              "      <td>0.760927</td>\n",
              "      <td>10.643261</td>\n",
              "      <td>2.947104</td>\n",
              "      <td>61.608646</td>\n",
              "      <td>-5.509143</td>\n",
              "      <td>-68.432939</td>\n",
              "      <td>-77.217989</td>\n",
              "      <td>29.173716</td>\n",
              "      <td>-48.699310</td>\n",
              "      <td>40.447956</td>\n",
              "      <td>6.278935</td>\n",
              "      <td>53.290314</td>\n",
              "      <td>25.739341</td>\n",
              "      <td>-22.937783</td>\n",
              "      <td>-20.444580</td>\n",
              "      <td>-5.707959</td>\n",
              "      <td>-6.739512</td>\n",
              "      <td>35.566194</td>\n",
              "      <td>-12.489472</td>\n",
              "      <td>26.604754</td>\n",
              "      <td>-1.914073</td>\n",
              "      <td>-71.598436</td>\n",
              "      <td>13.554684</td>\n",
              "      <td>4.278312</td>\n",
              "      <td>-21.054016</td>\n",
              "      <td>-47.896805</td>\n",
              "      <td>-85.126675</td>\n",
              "      <td>27.947012</td>\n",
              "      <td>-42.904819</td>\n",
              "      <td>27.558976</td>\n",
              "      <td>18.512057</td>\n",
              "      <td>70.354752</td>\n",
              "      <td>4.577626</td>\n",
              "      <td>23.856081</td>\n",
              "      <td>-5.195999</td>\n",
              "      <td>-14.614201</td>\n",
              "      <td>-9.392719</td>\n",
              "      <td>...</td>\n",
              "      <td>5.212237</td>\n",
              "      <td>4.943986</td>\n",
              "      <td>-58.669345</td>\n",
              "      <td>-9.086766</td>\n",
              "      <td>-20.953555</td>\n",
              "      <td>-30.783716</td>\n",
              "      <td>26.917069</td>\n",
              "      <td>26.077545</td>\n",
              "      <td>53.017769</td>\n",
              "      <td>-10.058914</td>\n",
              "      <td>23.886375</td>\n",
              "      <td>-34.614276</td>\n",
              "      <td>-11.803203</td>\n",
              "      <td>14.825975</td>\n",
              "      <td>29.538507</td>\n",
              "      <td>8.030126</td>\n",
              "      <td>-48.427878</td>\n",
              "      <td>-68.701166</td>\n",
              "      <td>-91.828084</td>\n",
              "      <td>-91.316945</td>\n",
              "      <td>47.316201</td>\n",
              "      <td>-0.376451</td>\n",
              "      <td>-17.721334</td>\n",
              "      <td>-37.065650</td>\n",
              "      <td>-18.996736</td>\n",
              "      <td>9.155704</td>\n",
              "      <td>8.898000</td>\n",
              "      <td>-32.727522</td>\n",
              "      <td>48.966607</td>\n",
              "      <td>-16.756271</td>\n",
              "      <td>57.556930</td>\n",
              "      <td>-37.185745</td>\n",
              "      <td>-55.452778</td>\n",
              "      <td>30.446659</td>\n",
              "      <td>-33.273273</td>\n",
              "      <td>10.148013</td>\n",
              "      <td>30.601762</td>\n",
              "      <td>8.301901</td>\n",
              "      <td>-32.431347</td>\n",
              "      <td>-19.067473</td>\n",
              "    </tr>\n",
              "    <tr>\n",
              "      <th>5167</th>\n",
              "      <td>110.185303</td>\n",
              "      <td>42.173541</td>\n",
              "      <td>52.245950</td>\n",
              "      <td>-12.982441</td>\n",
              "      <td>0.136528</td>\n",
              "      <td>-28.733701</td>\n",
              "      <td>109.654996</td>\n",
              "      <td>-78.115932</td>\n",
              "      <td>-101.127004</td>\n",
              "      <td>-122.729400</td>\n",
              "      <td>97.553249</td>\n",
              "      <td>-145.831606</td>\n",
              "      <td>85.923997</td>\n",
              "      <td>-11.630646</td>\n",
              "      <td>127.615476</td>\n",
              "      <td>76.931355</td>\n",
              "      <td>-93.628811</td>\n",
              "      <td>-34.149218</td>\n",
              "      <td>-14.672061</td>\n",
              "      <td>-78.634261</td>\n",
              "      <td>5.129800</td>\n",
              "      <td>-24.120833</td>\n",
              "      <td>103.771201</td>\n",
              "      <td>-1.242242</td>\n",
              "      <td>-190.349586</td>\n",
              "      <td>17.170772</td>\n",
              "      <td>14.674535</td>\n",
              "      <td>-94.235473</td>\n",
              "      <td>-96.805456</td>\n",
              "      <td>-224.721277</td>\n",
              "      <td>85.060279</td>\n",
              "      <td>-64.605930</td>\n",
              "      <td>51.401444</td>\n",
              "      <td>45.580931</td>\n",
              "      <td>157.953533</td>\n",
              "      <td>-0.357061</td>\n",
              "      <td>72.053162</td>\n",
              "      <td>-58.381486</td>\n",
              "      <td>-58.585417</td>\n",
              "      <td>-16.720702</td>\n",
              "      <td>...</td>\n",
              "      <td>25.781517</td>\n",
              "      <td>-19.371624</td>\n",
              "      <td>-191.922440</td>\n",
              "      <td>-15.467920</td>\n",
              "      <td>19.139138</td>\n",
              "      <td>-55.937650</td>\n",
              "      <td>51.277849</td>\n",
              "      <td>109.761575</td>\n",
              "      <td>105.679717</td>\n",
              "      <td>48.256639</td>\n",
              "      <td>-36.863068</td>\n",
              "      <td>-38.965930</td>\n",
              "      <td>-38.972229</td>\n",
              "      <td>25.164860</td>\n",
              "      <td>80.103469</td>\n",
              "      <td>-18.659366</td>\n",
              "      <td>-101.710627</td>\n",
              "      <td>-111.918206</td>\n",
              "      <td>-190.596685</td>\n",
              "      <td>-172.586068</td>\n",
              "      <td>130.373740</td>\n",
              "      <td>13.540140</td>\n",
              "      <td>-29.678522</td>\n",
              "      <td>-62.384008</td>\n",
              "      <td>-4.849191</td>\n",
              "      <td>32.464063</td>\n",
              "      <td>36.200212</td>\n",
              "      <td>-95.051088</td>\n",
              "      <td>102.321399</td>\n",
              "      <td>-37.712436</td>\n",
              "      <td>156.011989</td>\n",
              "      <td>-77.509891</td>\n",
              "      <td>-138.414858</td>\n",
              "      <td>85.780957</td>\n",
              "      <td>-43.581636</td>\n",
              "      <td>-12.250530</td>\n",
              "      <td>78.561642</td>\n",
              "      <td>-63.410144</td>\n",
              "      <td>-61.363976</td>\n",
              "      <td>-26.990239</td>\n",
              "    </tr>\n",
              "    <tr>\n",
              "      <th>5168</th>\n",
              "      <td>21.393898</td>\n",
              "      <td>-7.809902</td>\n",
              "      <td>23.455125</td>\n",
              "      <td>8.381152</td>\n",
              "      <td>-0.406598</td>\n",
              "      <td>-0.919513</td>\n",
              "      <td>41.831118</td>\n",
              "      <td>-26.663766</td>\n",
              "      <td>-54.846923</td>\n",
              "      <td>-52.663990</td>\n",
              "      <td>9.298213</td>\n",
              "      <td>-44.135195</td>\n",
              "      <td>22.730814</td>\n",
              "      <td>5.729514</td>\n",
              "      <td>18.673140</td>\n",
              "      <td>20.860474</td>\n",
              "      <td>-27.452327</td>\n",
              "      <td>26.311884</td>\n",
              "      <td>25.995439</td>\n",
              "      <td>-25.246567</td>\n",
              "      <td>7.135627</td>\n",
              "      <td>-10.519315</td>\n",
              "      <td>21.824302</td>\n",
              "      <td>-2.032770</td>\n",
              "      <td>-42.155082</td>\n",
              "      <td>-1.298805</td>\n",
              "      <td>0.362007</td>\n",
              "      <td>-34.069572</td>\n",
              "      <td>-43.738885</td>\n",
              "      <td>-55.973105</td>\n",
              "      <td>1.768487</td>\n",
              "      <td>-27.352992</td>\n",
              "      <td>32.498271</td>\n",
              "      <td>5.936176</td>\n",
              "      <td>69.914611</td>\n",
              "      <td>14.083763</td>\n",
              "      <td>1.155988</td>\n",
              "      <td>-12.369540</td>\n",
              "      <td>-30.898655</td>\n",
              "      <td>-27.040464</td>\n",
              "      <td>...</td>\n",
              "      <td>9.639861</td>\n",
              "      <td>1.590659</td>\n",
              "      <td>-54.386082</td>\n",
              "      <td>8.727418</td>\n",
              "      <td>-21.983486</td>\n",
              "      <td>-36.436483</td>\n",
              "      <td>-31.139934</td>\n",
              "      <td>41.221101</td>\n",
              "      <td>52.844838</td>\n",
              "      <td>19.427162</td>\n",
              "      <td>1.354089</td>\n",
              "      <td>-13.153618</td>\n",
              "      <td>-6.478943</td>\n",
              "      <td>8.379133</td>\n",
              "      <td>30.930398</td>\n",
              "      <td>-36.068134</td>\n",
              "      <td>-28.720240</td>\n",
              "      <td>-71.334919</td>\n",
              "      <td>-54.401587</td>\n",
              "      <td>-58.525772</td>\n",
              "      <td>35.250557</td>\n",
              "      <td>-5.118985</td>\n",
              "      <td>-30.880549</td>\n",
              "      <td>-27.581163</td>\n",
              "      <td>-2.258474</td>\n",
              "      <td>-4.770593</td>\n",
              "      <td>-5.649967</td>\n",
              "      <td>-23.735754</td>\n",
              "      <td>51.171962</td>\n",
              "      <td>15.014536</td>\n",
              "      <td>15.607677</td>\n",
              "      <td>-36.560389</td>\n",
              "      <td>-57.128012</td>\n",
              "      <td>30.025392</td>\n",
              "      <td>-35.275191</td>\n",
              "      <td>-12.447352</td>\n",
              "      <td>15.255583</td>\n",
              "      <td>-28.738312</td>\n",
              "      <td>-26.021038</td>\n",
              "      <td>-14.871362</td>\n",
              "    </tr>\n",
              "    <tr>\n",
              "      <th>5169</th>\n",
              "      <td>53.335181</td>\n",
              "      <td>15.244463</td>\n",
              "      <td>30.668632</td>\n",
              "      <td>5.770213</td>\n",
              "      <td>-12.083882</td>\n",
              "      <td>-24.846916</td>\n",
              "      <td>51.974579</td>\n",
              "      <td>-23.603478</td>\n",
              "      <td>-87.138007</td>\n",
              "      <td>-66.756971</td>\n",
              "      <td>13.664090</td>\n",
              "      <td>-34.328861</td>\n",
              "      <td>28.570315</td>\n",
              "      <td>-7.162818</td>\n",
              "      <td>23.240425</td>\n",
              "      <td>43.493978</td>\n",
              "      <td>-2.408400</td>\n",
              "      <td>19.439515</td>\n",
              "      <td>54.745669</td>\n",
              "      <td>-5.257083</td>\n",
              "      <td>11.652725</td>\n",
              "      <td>-10.741390</td>\n",
              "      <td>-9.188274</td>\n",
              "      <td>-11.306872</td>\n",
              "      <td>-63.877963</td>\n",
              "      <td>7.876271</td>\n",
              "      <td>-5.641598</td>\n",
              "      <td>-25.628063</td>\n",
              "      <td>-79.885691</td>\n",
              "      <td>-78.864495</td>\n",
              "      <td>-33.568640</td>\n",
              "      <td>-31.991038</td>\n",
              "      <td>23.168879</td>\n",
              "      <td>-4.858755</td>\n",
              "      <td>101.769236</td>\n",
              "      <td>31.461304</td>\n",
              "      <td>25.780960</td>\n",
              "      <td>-7.385359</td>\n",
              "      <td>-48.961566</td>\n",
              "      <td>-78.213519</td>\n",
              "      <td>...</td>\n",
              "      <td>-8.306446</td>\n",
              "      <td>7.540734</td>\n",
              "      <td>-82.540765</td>\n",
              "      <td>-1.327615</td>\n",
              "      <td>-12.959929</td>\n",
              "      <td>-32.609466</td>\n",
              "      <td>-29.584620</td>\n",
              "      <td>64.512701</td>\n",
              "      <td>48.746370</td>\n",
              "      <td>-12.333107</td>\n",
              "      <td>9.291239</td>\n",
              "      <td>-15.112987</td>\n",
              "      <td>29.398004</td>\n",
              "      <td>-13.830142</td>\n",
              "      <td>36.697739</td>\n",
              "      <td>0.176901</td>\n",
              "      <td>-5.975499</td>\n",
              "      <td>-84.608075</td>\n",
              "      <td>-51.457679</td>\n",
              "      <td>-65.038240</td>\n",
              "      <td>29.411487</td>\n",
              "      <td>-8.084729</td>\n",
              "      <td>-26.827717</td>\n",
              "      <td>-34.640403</td>\n",
              "      <td>0.103355</td>\n",
              "      <td>-1.944751</td>\n",
              "      <td>5.017152</td>\n",
              "      <td>10.964508</td>\n",
              "      <td>61.395613</td>\n",
              "      <td>-1.558706</td>\n",
              "      <td>35.014452</td>\n",
              "      <td>-47.394409</td>\n",
              "      <td>-71.236555</td>\n",
              "      <td>18.510489</td>\n",
              "      <td>-48.058442</td>\n",
              "      <td>-18.208452</td>\n",
              "      <td>10.117298</td>\n",
              "      <td>-6.700164</td>\n",
              "      <td>-38.636704</td>\n",
              "      <td>-18.658264</td>\n",
              "    </tr>\n",
              "    <tr>\n",
              "      <th>5170</th>\n",
              "      <td>88.300198</td>\n",
              "      <td>-18.797457</td>\n",
              "      <td>143.636665</td>\n",
              "      <td>-37.720660</td>\n",
              "      <td>-68.439494</td>\n",
              "      <td>-125.254923</td>\n",
              "      <td>154.721222</td>\n",
              "      <td>-98.501468</td>\n",
              "      <td>-244.025822</td>\n",
              "      <td>-151.066431</td>\n",
              "      <td>31.315385</td>\n",
              "      <td>-127.155945</td>\n",
              "      <td>44.337327</td>\n",
              "      <td>-0.018367</td>\n",
              "      <td>45.495391</td>\n",
              "      <td>123.809773</td>\n",
              "      <td>-49.569869</td>\n",
              "      <td>145.839928</td>\n",
              "      <td>180.326832</td>\n",
              "      <td>-40.308994</td>\n",
              "      <td>-25.143360</td>\n",
              "      <td>-36.854167</td>\n",
              "      <td>-70.552195</td>\n",
              "      <td>-112.261911</td>\n",
              "      <td>-109.067436</td>\n",
              "      <td>-51.124414</td>\n",
              "      <td>15.148397</td>\n",
              "      <td>-75.623072</td>\n",
              "      <td>-211.954029</td>\n",
              "      <td>-215.649873</td>\n",
              "      <td>-143.937683</td>\n",
              "      <td>-79.467775</td>\n",
              "      <td>11.935311</td>\n",
              "      <td>-31.444778</td>\n",
              "      <td>371.078365</td>\n",
              "      <td>171.434403</td>\n",
              "      <td>107.047843</td>\n",
              "      <td>19.966676</td>\n",
              "      <td>-205.497152</td>\n",
              "      <td>-293.961651</td>\n",
              "      <td>...</td>\n",
              "      <td>33.730989</td>\n",
              "      <td>-37.416714</td>\n",
              "      <td>-273.251839</td>\n",
              "      <td>11.574847</td>\n",
              "      <td>-1.509394</td>\n",
              "      <td>-153.101011</td>\n",
              "      <td>-116.713671</td>\n",
              "      <td>256.556674</td>\n",
              "      <td>161.217690</td>\n",
              "      <td>-5.359946</td>\n",
              "      <td>-52.280085</td>\n",
              "      <td>-44.768346</td>\n",
              "      <td>124.516346</td>\n",
              "      <td>-93.240574</td>\n",
              "      <td>74.329179</td>\n",
              "      <td>-78.980789</td>\n",
              "      <td>0.325330</td>\n",
              "      <td>-275.949168</td>\n",
              "      <td>-108.951228</td>\n",
              "      <td>-125.054814</td>\n",
              "      <td>60.166020</td>\n",
              "      <td>-46.858146</td>\n",
              "      <td>-118.625211</td>\n",
              "      <td>-92.455411</td>\n",
              "      <td>46.665098</td>\n",
              "      <td>-67.837524</td>\n",
              "      <td>63.406349</td>\n",
              "      <td>18.819771</td>\n",
              "      <td>117.148844</td>\n",
              "      <td>27.629678</td>\n",
              "      <td>113.843795</td>\n",
              "      <td>-185.357740</td>\n",
              "      <td>-175.735379</td>\n",
              "      <td>47.061687</td>\n",
              "      <td>-113.775489</td>\n",
              "      <td>-55.532101</td>\n",
              "      <td>19.622640</td>\n",
              "      <td>-30.374474</td>\n",
              "      <td>-121.194025</td>\n",
              "      <td>-38.752829</td>\n",
              "    </tr>\n",
              "  </tbody>\n",
              "</table>\n",
              "<p>5171 rows × 100 columns</p>\n",
              "</div>"
            ],
            "text/plain": [
              "          word_0     word_1      word_2  ...    word_97     word_98     word_99\n",
              "0      31.717840   2.851527   28.599925  ...  -1.553805  -37.828361  -15.403803\n",
              "1      16.954580   5.366992    3.185332  ... -11.161595   -4.314158   -0.680848\n",
              "2     220.541595 -68.183280  325.346262  ... -73.588253 -363.415091 -164.409387\n",
              "3       4.273418   3.417947    3.446501  ...  -4.455250   -3.037399   -1.411401\n",
              "4      23.329569 -13.855887   50.179162  ... -13.341957  -57.595064  -30.106341\n",
              "...          ...        ...         ...  ...        ...         ...         ...\n",
              "5166   56.907111  21.101587   15.699399  ...   8.301901  -32.431347  -19.067473\n",
              "5167  110.185303  42.173541   52.245950  ... -63.410144  -61.363976  -26.990239\n",
              "5168   21.393898  -7.809902   23.455125  ... -28.738312  -26.021038  -14.871362\n",
              "5169   53.335181  15.244463   30.668632  ...  -6.700164  -38.636704  -18.658264\n",
              "5170   88.300198 -18.797457  143.636665  ... -30.374474 -121.194025  -38.752829\n",
              "\n",
              "[5171 rows x 100 columns]"
            ]
          },
          "metadata": {},
          "execution_count": 110
        }
      ]
    },
    {
      "cell_type": "code",
      "metadata": {
        "id": "R-CErubbnM2e"
      },
      "source": [
        " from sklearn.model_selection import train_test_split"
      ],
      "execution_count": 111,
      "outputs": []
    },
    {
      "cell_type": "code",
      "metadata": {
        "id": "Dvq1CxZYnkZU"
      },
      "source": [
        "X_train, X_test, y_train, y_test = train_test_split(X, y, test_size=0.3, random_state=123)"
      ],
      "execution_count": 112,
      "outputs": []
    },
    {
      "cell_type": "code",
      "metadata": {
        "id": "dijBevQioZQo"
      },
      "source": [
        "from sklearn.neighbors import KNeighborsClassifier\n",
        "from sklearn.model_selection import RandomizedSearchCV"
      ],
      "execution_count": 113,
      "outputs": []
    },
    {
      "cell_type": "code",
      "metadata": {
        "id": "P_QAd4X6rHjv"
      },
      "source": [
        "params = {'n_neighbors':[10,20,30,40,50,60,70,80,90,100], 'metric':['manhattan']}\n"
      ],
      "execution_count": 114,
      "outputs": []
    },
    {
      "cell_type": "code",
      "metadata": {
        "id": "yjhh3QGNs7T3"
      },
      "source": [
        "knn = KNeighborsClassifier()"
      ],
      "execution_count": 115,
      "outputs": []
    },
    {
      "cell_type": "code",
      "metadata": {
        "id": "HzAMEDcetCVz"
      },
      "source": [
        "\n",
        "clf=RandomizedSearchCV(knn, params, random_state=123,n_jobs=-1,verbose=True)"
      ],
      "execution_count": 116,
      "outputs": []
    },
    {
      "cell_type": "code",
      "metadata": {
        "colab": {
          "base_uri": "https://localhost:8080/"
        },
        "id": "w_6_t3ietkS3",
        "outputId": "cafe2215-8d78-4149-ec11-c8443907a709"
      },
      "source": [
        "clf.fit(X_train, y_train)"
      ],
      "execution_count": 117,
      "outputs": [
        {
          "output_type": "stream",
          "name": "stdout",
          "text": [
            "Fitting 5 folds for each of 10 candidates, totalling 50 fits\n"
          ]
        },
        {
          "output_type": "execute_result",
          "data": {
            "text/plain": [
              "RandomizedSearchCV(estimator=KNeighborsClassifier(), n_jobs=-1,\n",
              "                   param_distributions={'metric': ['manhattan'],\n",
              "                                        'n_neighbors': [10, 20, 30, 40, 50, 60,\n",
              "                                                        70, 80, 90, 100]},\n",
              "                   random_state=123, verbose=True)"
            ]
          },
          "metadata": {},
          "execution_count": 117
        }
      ]
    },
    {
      "cell_type": "code",
      "metadata": {
        "colab": {
          "base_uri": "https://localhost:8080/"
        },
        "id": "CvAg313htoRq",
        "outputId": "7b16ca59-dc46-4a72-fb11-6d60534347b8"
      },
      "source": [
        "knn.fit(X_train, y_train)"
      ],
      "execution_count": 118,
      "outputs": [
        {
          "output_type": "execute_result",
          "data": {
            "text/plain": [
              "KNeighborsClassifier()"
            ]
          },
          "metadata": {},
          "execution_count": 118
        }
      ]
    },
    {
      "cell_type": "code",
      "metadata": {
        "colab": {
          "base_uri": "https://localhost:8080/"
        },
        "id": "H05R4tZzt46i",
        "outputId": "2aeeed5e-5211-47b3-e5a1-03aed8ad8893"
      },
      "source": [
        "clf.best_score_"
      ],
      "execution_count": 119,
      "outputs": [
        {
          "output_type": "execute_result",
          "data": {
            "text/plain": [
              "0.9262232258163117"
            ]
          },
          "metadata": {},
          "execution_count": 119
        }
      ]
    },
    {
      "cell_type": "code",
      "metadata": {
        "colab": {
          "base_uri": "https://localhost:8080/"
        },
        "id": "sQ_7C673cfJc",
        "outputId": "e8fabb61-8771-41b6-bb17-9dc866737eca"
      },
      "source": [
        "clf.best_params_"
      ],
      "execution_count": 120,
      "outputs": [
        {
          "output_type": "execute_result",
          "data": {
            "text/plain": [
              "{'metric': 'manhattan', 'n_neighbors': 10}"
            ]
          },
          "metadata": {},
          "execution_count": 120
        }
      ]
    },
    {
      "cell_type": "code",
      "metadata": {
        "id": "0-cOb-MIclkD"
      },
      "source": [
        "model = KNeighborsClassifier(n_neighbors=10)"
      ],
      "execution_count": 121,
      "outputs": []
    },
    {
      "cell_type": "code",
      "metadata": {
        "colab": {
          "base_uri": "https://localhost:8080/"
        },
        "id": "cG11l4kDcyU0",
        "outputId": "91ad4c44-5da9-44bc-dbaa-9e2d56bb28c4"
      },
      "source": [
        "model.fit(X_train, y_train)"
      ],
      "execution_count": 122,
      "outputs": [
        {
          "output_type": "execute_result",
          "data": {
            "text/plain": [
              "KNeighborsClassifier(n_neighbors=10)"
            ]
          },
          "metadata": {},
          "execution_count": 122
        }
      ]
    },
    {
      "cell_type": "code",
      "metadata": {
        "id": "bGs34Udic34H"
      },
      "source": [
        "from sklearn.metrics import roc_auc_score, accuracy_score"
      ],
      "execution_count": 123,
      "outputs": []
    },
    {
      "cell_type": "code",
      "metadata": {
        "id": "iHJJgoWFdLI0"
      },
      "source": [
        "y_pred = model.predict(X_test)"
      ],
      "execution_count": 124,
      "outputs": []
    },
    {
      "cell_type": "code",
      "metadata": {
        "colab": {
          "base_uri": "https://localhost:8080/"
        },
        "id": "oqIxo-ekdUwP",
        "outputId": "7ccfc981-5cfc-412f-d827-eced639fba53"
      },
      "source": [
        "accuracy_score(y_test, y_pred)"
      ],
      "execution_count": 125,
      "outputs": [
        {
          "output_type": "execute_result",
          "data": {
            "text/plain": [
              "0.9432989690721649"
            ]
          },
          "metadata": {},
          "execution_count": 125
        }
      ]
    },
    {
      "cell_type": "code",
      "metadata": {
        "id": "IOHAKwzLdd8m"
      },
      "source": [
        "from sklearn.metrics import f1_score"
      ],
      "execution_count": 126,
      "outputs": []
    },
    {
      "cell_type": "code",
      "metadata": {
        "colab": {
          "base_uri": "https://localhost:8080/"
        },
        "id": "_oGmYZLtp1Jr",
        "outputId": "e4ce18ec-5db6-413f-dad9-7917665e232b"
      },
      "source": [
        "print(f1_score(y_test, y_pred))"
      ],
      "execution_count": 127,
      "outputs": [
        {
          "output_type": "stream",
          "name": "stdout",
          "text": [
            "0.8962264150943396\n"
          ]
        }
      ]
    },
    {
      "cell_type": "code",
      "metadata": {
        "id": "2o0T3VAwp6eL"
      },
      "source": [
        "from sklearn.metrics import roc_curve, roc_auc_score, confusion_matrix"
      ],
      "execution_count": 128,
      "outputs": []
    },
    {
      "cell_type": "code",
      "metadata": {
        "id": "Eh4Op8UBMbZv"
      },
      "source": [
        "pred_prob = model.predict_proba(X_test)"
      ],
      "execution_count": 129,
      "outputs": []
    },
    {
      "cell_type": "code",
      "metadata": {
        "id": "kwlHbcgJMi9c"
      },
      "source": [
        "fpr, tpr, thrshld = roc_curve(y_test, pred_prob[:,1])"
      ],
      "execution_count": 130,
      "outputs": []
    },
    {
      "cell_type": "code",
      "metadata": {
        "id": "jMDs9RwGM2nf"
      },
      "source": [
        "import matplotlib.pyplot as plt\n"
      ],
      "execution_count": 131,
      "outputs": []
    },
    {
      "cell_type": "code",
      "metadata": {
        "colab": {
          "base_uri": "https://localhost:8080/",
          "height": 513
        },
        "id": "Z9RJkNPBNRFp",
        "outputId": "358fd427-8bd8-4afd-ca2b-cc187edc96ee"
      },
      "source": [
        "plt.figure(figsize=(8,8))\n",
        "plt.title('ROC Curve')\n",
        "plt.plot(fpr, tpr)\n",
        "plt.plot([0,1],ls='--')\n",
        "plt.xlabel('False Positive Rate')\n",
        "plt.ylabel('True Positive Rate')\n",
        "plt.show()"
      ],
      "execution_count": 132,
      "outputs": [
        {
          "output_type": "display_data",
          "data": {
            "image/png": "[encoded data removed]",
            "text/plain": [
              "<Figure size 576x576 with 1 Axes>"
            ]
          },
          "metadata": {
            "needs_background": "light"
          }
        }
      ]
    },
    {
      "cell_type": "code",
      "metadata": {
        "colab": {
          "base_uri": "https://localhost:8080/"
        },
        "id": "VYfB8OAfNbHc",
        "outputId": "4dacb02c-495c-4922-8ea2-55b08019d125"
      },
      "source": [
        "print('AUC score :', roc_auc_score(y_test, pred_prob[:,1]))"
      ],
      "execution_count": 133,
      "outputs": [
        {
          "output_type": "stream",
          "name": "stdout",
          "text": [
            "AUC score : 0.9827075388063695\n"
          ]
        }
      ]
    },
    {
      "cell_type": "code",
      "metadata": {
        "id": "lu6Q6ZJPNppT"
      },
      "source": [
        ""
      ],
      "execution_count": 133,
      "outputs": []
    }
  ]
}